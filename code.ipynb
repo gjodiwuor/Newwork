{
 "cells": [
  {
   "cell_type": "code",
   "execution_count": 3,
   "id": "03249b59",
   "metadata": {},
   "outputs": [
    {
     "name": "stdout",
     "output_type": "stream",
     "text": [
      "Enter 10 whole numbers:\n",
      "\n",
      "All numbers entered:\n",
      "[2, 5, 4, 2, 6, 7, 89, 8, 5, 1]\n",
      "\n",
      "Even numbers:\n",
      "[2, 4, 2, 6, 8]\n",
      "\n",
      "Odd numbers:\n",
      "[5, 7, 89, 5, 1]\n"
     ]
    }
   ],
   "source": [
    "# Initialize an empty list to store numbers\n",
    "numbers = [] #\n",
    "\n",
    "# Input 10 whole numbers\n",
    "print(\"Enter 10 whole numbers:\") \n",
    "for i in range(10):\n",
    "    num = int(input(f\"Enter number {i + 1}: \"))\n",
    "    numbers.append(num)\n",
    "\n",
    "# Print all numbers\n",
    "print(\"\\nAll numbers entered:\")\n",
    "print(numbers)\n",
    "\n",
    "# Find and print even numbers\n",
    "even_numbers = [num for num in numbers if num % 2 == 0]\n",
    "print(\"\\nEven numbers:\")\n",
    "print(even_numbers)\n",
    "\n",
    "# Find and print odd numbers\n",
    "odd_numbers = [num for num in numbers if num % 2 != 0]\n",
    "print(\"\\nOdd numbers:\")\n",
    "print(odd_numbers)\n"
   ]
  },
  {
   "cell_type": "code",
   "execution_count": 1,
   "id": "3cc263ab",
   "metadata": {},
   "outputs": [
    {
     "name": "stdout",
     "output_type": "stream",
     "text": [
      "Enter 10 whole numbers:\n",
      "\n",
      "All numbers entered:\n",
      "[2, 1, 4, 5, 3, 2, 6, 8, 7, 3]\n",
      "\n",
      "Even numbers:\n",
      "[2, 4, 2, 6, 8]\n",
      "\n",
      "Odd numbers:\n",
      "[1, 5, 3, 7, 3]\n",
      "\n",
      "Sum of even numbers:\n",
      "22\n",
      "\n",
      "Sum of odd numbers:\n",
      "19\n"
     ]
    }
   ],
   "source": [
    "# Initialize an empty list to store numbers\n",
    "numbers = [] #\n",
    "\n",
    "# Input 10 whole numbers\n",
    "print(\"Enter 10 whole numbers:\") \n",
    "for i in range(10):\n",
    "    num = int(input(f\"Enter number {i + 1}: \"))\n",
    "    numbers.append(num)\n",
    "\n",
    "# Print all numbers\n",
    "print(\"\\nAll numbers entered:\")\n",
    "print(numbers)\n",
    "\n",
    "# Find and print even numbers\n",
    "even_numbers = [num for num in numbers if num % 2 == 0]\n",
    "print(\"\\nEven numbers:\")\n",
    "print(even_numbers)\n",
    "\n",
    "# Find and print odd numbers\n",
    "odd_numbers = [num for num in numbers if num % 2 != 0]\n",
    "print(\"\\nOdd numbers:\")\n",
    "print(odd_numbers)\n",
    "\n",
    "#Sums the even numbers\n",
    "sum_even = sum(even_numbers)   \n",
    "print(\"\\nSum of even numbers:\")\n",
    "print(sum_even)\n",
    "\n",
    "#Sums the odd numbers\n",
    "sum_odd = sum(odd_numbers)\n",
    "print(\"\\nSum of odd numbers:\")\n",
    "print(sum_odd)\n"
   ]
  }
 ],
 "metadata": {
  "kernelspec": {
   "display_name": "Python 3",
   "language": "python",
   "name": "python3"
  },
  "language_info": {
   "codemirror_mode": {
    "name": "ipython",
    "version": 3
   },
   "file_extension": ".py",
   "mimetype": "text/x-python",
   "name": "python",
   "nbconvert_exporter": "python",
   "pygments_lexer": "ipython3",
   "version": "3.13.3"
  }
 },
 "nbformat": 4,
 "nbformat_minor": 5
}
