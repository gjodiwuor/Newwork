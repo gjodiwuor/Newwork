{
 "cells": [
  {
   "cell_type": "code",
   "execution_count": null,
   "id": "63abe84e",
   "metadata": {},
   "outputs": [],
   "source": [
    "def interactive_factorial():\n",
    "    while True:\n",
    "        try:\n",
    "            num = int(input(\"Enter a non-negative integer to find its factorial (or type 'exit' to quit): \"))\n",
    "            if num < 0:\n",
    "                print(\"Please enter a non-negative integer.\")\n",
    "                continue\n",
    "            factorial = 1\n",
    "            for i in range(1, num + 1):\n",
    "                factorial *= i\n",
    "            print(f\"Factorial of {num} is {factorial}\\n\")\n",
    "        except ValueError:\n",
    "            # Check if the user wants to exit\n",
    "            user_input = input(\"Do you want to exit? (yes/no): \").strip().lower()\n",
    "            if user_input in ['yes', 'y', 'exit', 'quit']:\n",
    "                print(\"Exiting the factorial calculator.\")\n",
    "                break\n",
    "            else:\n",
    "                print(\"Please enter a valid integer.\\n\")\n",
    "\n",
    "# To run the function\n",
    "interactive_factorial()\n"
   ]
  }
 ],
 "metadata": {
  "kernelspec": {
   "display_name": "Python 3",
   "language": "python",
   "name": "python3"
  },
  "language_info": {
   "name": "python",
   "version": "3.13.3"
  }
 },
 "nbformat": 4,
 "nbformat_minor": 5
}
